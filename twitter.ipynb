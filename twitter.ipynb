{
 "cells": [
  {
   "attachments": {},
   "cell_type": "markdown",
   "metadata": {},
   "source": [
    "## Resources\n",
    "\n",
    "- [Developer Twitter](https://developer.twitter.com)\n",
    "- [Towards Data Science Tweepy Tutorial](https://towardsdatascience.com/how-to-extract-data-from-the-twitter-api-using-python-b6fbd7129a33)"
   ]
  },
  {
   "cell_type": "code",
   "execution_count": 9,
   "metadata": {},
   "outputs": [],
   "source": [
    "# Import modules\n",
    "import tweepy\n",
    "import json"
   ]
  },
  {
   "attachments": {},
   "cell_type": "markdown",
   "metadata": {},
   "source": [
    "## Authenticate Twitter API\n",
    "\n",
    "We need to start the `tweepy` API using authentication keys provided by the Twitter developer dashboard."
   ]
  },
  {
   "cell_type": "code",
   "execution_count": 23,
   "metadata": {},
   "outputs": [
    {
     "name": "stdout",
     "output_type": "stream",
     "text": [
      "Dylan White, @j_dylan_white\n"
     ]
    }
   ],
   "source": [
    "# Read my secrets file\n",
    "with open(\"secrets.json\",\"r\") as f:\n",
    "    secrets = json.loads(f.read())\n",
    "\n",
    "# Authenticate with Twitter API\n",
    "auth = tweepy.OAuthHandler(secrets[\"API Key\"], secrets[\"API Key Secret\"])\n",
    "auth.set_access_token(secrets[\"Access Token\"], secrets[\"Access Token Secret\"])\n",
    "\n",
    "# Initialize the Twitter API with authentification\n",
    "api = tweepy.API(auth)\n",
    "\n",
    "# Verify the credentials work and that I am the user\n",
    "me = api.verify_credentials()\n",
    "print(f\"{me.name}, @{me.screen_name}\")"
   ]
  },
  {
   "attachments": {},
   "cell_type": "markdown",
   "metadata": {},
   "source": [
    "## Search For Hashtag\n",
    "\n",
    "Let's search using the Twitter API for tweets with \"#boston127\" since the date of the Boston Marathon."
   ]
  },
  {
   "cell_type": "code",
   "execution_count": 35,
   "metadata": {},
   "outputs": [],
   "source": [
    "hashtag_tweets = tweepy.Cursor(api.search_tweets, q=\"#boston127\", tweet_mode='extended', since=\"2023-4-17\").items(5)\n",
    "\n",
    "for tweet in hashtag_tweets:\n",
    "    text = tweet._json[\"full_text\"]\n",
    "    print(text)"
   ]
  }
 ],
 "metadata": {
  "kernelspec": {
   "display_name": "sentrun",
   "language": "python",
   "name": "python3"
  },
  "language_info": {
   "codemirror_mode": {
    "name": "ipython",
    "version": 3
   },
   "file_extension": ".py",
   "mimetype": "text/x-python",
   "name": "python",
   "nbconvert_exporter": "python",
   "pygments_lexer": "ipython3",
   "version": "3.10.11"
  },
  "orig_nbformat": 4
 },
 "nbformat": 4,
 "nbformat_minor": 2
}
