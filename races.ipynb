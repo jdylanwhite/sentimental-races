{
 "cells": [
  {
   "attachments": {},
   "cell_type": "markdown",
   "metadata": {},
   "source": [
    "# Parse Race Results\n",
    "\n",
    "For this project, I have to fetch a ton of marathon results. [Marathon Guide](http://www.marathonguide.com/index.cfm) has database with a ton of race results, but it isn't straightforward to programmatically extract that data. Each race has a unique ID, and each yearly event of that race has its own unique ID as well. Once you get to the page of an actual event, say the 2023 Boston Marathon, the race results live on a table on that page. So we'll have to programmatically do the following:\n",
    "\n",
    "1. search for a race\n",
    "2. find that race's ID\n",
    "3. visit the page for that race\n",
    "4. find the IDs for each year of that race\n",
    "5. for a particular year, scrape the data."
   ]
  },
  {
   "attachments": {},
   "cell_type": "markdown",
   "metadata": {},
   "source": [
    "## Import Modules\n",
    "\n",
    "Let's import what we need to parse the Marathon Guide site results."
   ]
  },
  {
   "cell_type": "code",
   "execution_count": 1,
   "metadata": {},
   "outputs": [],
   "source": [
    "import requests\n",
    "from bs4 import BeautifulSoup\n",
    "import re\n",
    "import pandas as pd"
   ]
  },
  {
   "attachments": {},
   "cell_type": "markdown",
   "metadata": {},
   "source": [
    "## Run A Query for the Boston Marathon\n",
    "\n",
    "Now let's search for \"Boston\" to see if we can find the Boston Marathon."
   ]
  },
  {
   "cell_type": "code",
   "execution_count": 2,
   "metadata": {},
   "outputs": [],
   "source": [
    "s = requests.session()\n",
    "url = \"http://www.marathonguide.com/races/search.cfm\"\n",
    "searchParams = {\n",
    "    \"MarName\":\"Boston\",\n",
    "    \"state\":\"0\",\n",
    "    \"Country\":\"0\",\n",
    "    \"BeginDate\":\"\",\n",
    "    \"EndDate\":\"\",\n",
    "    \"submit\":\"Search\"\n",
    "}\n",
    "headers = {\n",
    "    \"Host\": \"www.marathonguide.com\",\n",
    "    \"User-Agent\": \"Mozilla/5.0 (X11; Linux x86_64; rv:109.0) Gecko/20100101 Firefox/113.0\",\n",
    "    \"Accept\": \"text/html,application/xhtml+xml,application/xml;q=0.9,image/avif,image/webp,*/*;q=0.8\",\n",
    "    \"Accept-Language\": \"en-US,en;q=0.5\",\n",
    "    \"Accept-Encoding\": \"gzip, deflate, br\",\n",
    "    \"Content-Type\": \"application/x-www-form-urlencoded\",\n",
    "    \"Content-Length\": \"66\",\n",
    "    \"Origin\": \"https://www.marathonguide.com\",\n",
    "    \"Connection\": \"keep-alive\",\n",
    "    \"Referer\": \"https://www.marathonguide.com/races/search.cfm\",\n",
    "    \"Cookie\": \"CFID=18886069; CFTOKEN=10099356; __utma=236163485.1517014765.1683568860.1684885192.1685521300.8; __utmz=236163485.1684539978.2.2.utmcsr=google|utmccn=(organic)|utmcmd=organic|utmctr=(not%20provided); __atuvc=21%7C19%2C29%7C20%2C3%7C21; __atssc=google%3B3; __qca=P0-1769083251-1683568860661; SV=2; __utmb=236163485.5.10.1685521300; __utmt=1; JSESSIONID=C2AD389600312F789C8971B0F9545246.cfusion; __utmc=236163485\",\n",
    "    \"Upgrade-Insecure-Requests\": \"1\",\n",
    "    \"Sec-Fetch-Dest\": \"document\",\n",
    "    \"Sec-Fetch-Mode\": \"navigate\",\n",
    "    \"Sec-Fetch-Site\": \"same-origin\",\n",
    "    \"Sec-Fetch-User\": \"?1\",\n",
    "    \"TE\": \"trailers\",\n",
    "}\n",
    "res = s.post(url,data=searchParams)#,headers=headers,verify=True)"
   ]
  },
  {
   "attachments": {},
   "cell_type": "markdown",
   "metadata": {},
   "source": [
    "## Parse Marathon Search with BeautifulSoup\n",
    "\n",
    "We can read in the results content with BeautifulSoup. The search results are all linked to their page, referenced by an ID labelled as \"MIDD\". We can use this link to peel off the MIDD for each race in the search result via `MIDD\\s*=\\s*([\\S\\s]+)`, where\n",
    "\n",
    "* `MIDD` checks for the text \"MIDD\"\n",
    "* `\\s*` selects all whitespace if there is any\n",
    "* `=` Will match the \"=\" sign\n",
    "* `([\\S\\s]+)` select all characters."
   ]
  },
  {
   "cell_type": "code",
   "execution_count": 3,
   "metadata": {},
   "outputs": [],
   "source": [
    "# Read in the results of the query with BeautifulSoup\n",
    "soup = BeautifulSoup(res.content)\n",
    "\n",
    "# Loop through all <a> tags and find those with \"Boston\" in the name\n",
    "# TODO: Ignore any <strike>'ed results\n",
    "for a in soup.find_all(\"a\"):\n",
    "    if a.text == \"Boston Marathon\":\n",
    "        link = a.get_attribute_list('href')\n",
    "        midd = re.search('MIDD\\s*=\\s*([\\S\\s]+)', link[0]).group(1)\n",
    "        race = a.text\n",
    "        print(f\"Race: {race}, MIDD: {midd}, Link: {link}\")"
   ]
  },
  {
   "cell_type": "code",
   "execution_count": 5,
   "metadata": {},
   "outputs": [
    {
     "ename": "NameError",
     "evalue": "name 'race' is not defined",
     "output_type": "error",
     "traceback": [
      "\u001b[0;31m---------------------------------------------------------------------------\u001b[0m",
      "\u001b[0;31mNameError\u001b[0m                                 Traceback (most recent call last)",
      "Cell \u001b[0;32mIn[5], line 1\u001b[0m\n\u001b[0;32m----> 1\u001b[0m race\n",
      "\u001b[0;31mNameError\u001b[0m: name 'race' is not defined"
     ]
    }
   ],
   "source": [
    "race"
   ]
  },
  {
   "attachments": {},
   "cell_type": "markdown",
   "metadata": {},
   "source": [
    "## Parse the Events for the Race\n",
    "\n",
    "Now that we've searched for a race, we need to select the event for a specific year. This is on the race details page, we just need to parse it out."
   ]
  },
  {
   "cell_type": "code",
   "execution_count": 12,
   "metadata": {},
   "outputs": [
    {
     "data": {
      "text/html": [
       "<div>\n",
       "<style scoped>\n",
       "    .dataframe tbody tr th:only-of-type {\n",
       "        vertical-align: middle;\n",
       "    }\n",
       "\n",
       "    .dataframe tbody tr th {\n",
       "        vertical-align: top;\n",
       "    }\n",
       "\n",
       "    .dataframe thead th {\n",
       "        text-align: right;\n",
       "    }\n",
       "</style>\n",
       "<table border=\"1\" class=\"dataframe\">\n",
       "  <thead>\n",
       "    <tr style=\"text-align: right;\">\n",
       "      <th></th>\n",
       "      <th>midd</th>\n",
       "      <th>year</th>\n",
       "    </tr>\n",
       "  </thead>\n",
       "  <tbody>\n",
       "    <tr>\n",
       "      <th>18</th>\n",
       "      <td>15180416</td>\n",
       "      <td>2018</td>\n",
       "    </tr>\n",
       "    <tr>\n",
       "      <th>19</th>\n",
       "      <td>15190415</td>\n",
       "      <td>2019</td>\n",
       "    </tr>\n",
       "    <tr>\n",
       "      <th>20</th>\n",
       "      <td>15211011</td>\n",
       "      <td>2021</td>\n",
       "    </tr>\n",
       "    <tr>\n",
       "      <th>21</th>\n",
       "      <td>15220418</td>\n",
       "      <td>2022</td>\n",
       "    </tr>\n",
       "    <tr>\n",
       "      <th>22</th>\n",
       "      <td>15230417</td>\n",
       "      <td>2023</td>\n",
       "    </tr>\n",
       "  </tbody>\n",
       "</table>\n",
       "</div>"
      ],
      "text/plain": [
       "        midd  year\n",
       "18  15180416  2018\n",
       "19  15190415  2019\n",
       "20  15211011  2021\n",
       "21  15220418  2022\n",
       "22  15230417  2023"
      ]
     },
     "execution_count": 12,
     "metadata": {},
     "output_type": "execute_result"
    }
   ],
   "source": [
    "midd = \"15240415\"\n",
    "url = 'http://www.marathonguide.com/races/racedetails.cfm'\n",
    "params = {\n",
    "    \"MIDD\": midd\n",
    "}\n",
    "res = requests.get(url,params)\n",
    "\n",
    "years = [str(i) for i in range(2000,2024)]\n",
    "soup = BeautifulSoup(res.content)\n",
    "dfList = []\n",
    "for a in soup.find_all(\"a\"):\n",
    "    if a.text in years:\n",
    "        link = a.get_attribute_list('href')\n",
    "        midd = re.search('MIDD\\s*=\\s*([\\S\\s]+)', link[0]).group(1)\n",
    "        year = a.text\n",
    "        dfList.append(pd.DataFrame([midd,year]))\n",
    "\n",
    "df = pd.concat(dfList,axis=1).T\n",
    "df.columns = (\"midd\",\"year\")\n",
    "df = df.sort_values(\"year\").reset_index().drop('index',axis=1)\n",
    "df.tail()"
   ]
  },
  {
   "attachments": {},
   "cell_type": "markdown",
   "metadata": {},
   "source": [
    "## Get the Page for Results of the Most Recent Marathon\n",
    "\n",
    "Now we get the page for a particular event; the most recent Boston Marathon. We'll parse some initial results from the page, such as the number of finishers, and the number of finishers registered as male and female."
   ]
  },
  {
   "cell_type": "code",
   "execution_count": 13,
   "metadata": {},
   "outputs": [
    {
     "name": "stdout",
     "output_type": "stream",
     "text": [
      "Finishers: 26600, Male Finishers: 15171, Female Finishers: 11405\n"
     ]
    }
   ],
   "source": [
    "# Just get the last year's results\n",
    "year = df[\"year\"].to_list()[-1]\n",
    "midd = df[\"midd\"].to_list()[-1]\n",
    "\n",
    "# Make the request for the event results\n",
    "url = f\"http://www.marathonguide.com/results/browse.cfm\"\n",
    "params = {\n",
    "    \"MIDD\": midd\n",
    "}\n",
    "res = requests.get(url,params)\n",
    "\n",
    "# Parse out the number of finishers, the number of male finishers, and the number of female finishers\n",
    "nFinishers = int(res.text.split(\"Finishers: \")[1].split(\",\")[0])\n",
    "nMales = int(res.text.split(\"Males - \")[1].split(\",\")[0])\n",
    "nFemales = int(res.text.split(\"Females - \")[1].split(\"\\n\")[0])\n",
    "print(f\"Finishers: {nFinishers}, Male Finishers: {nMales}, Female Finishers: {nFemales}\")"
   ]
  },
  {
   "attachments": {},
   "cell_type": "markdown",
   "metadata": {},
   "source": [
    "## Parse Event Results\n",
    "\n",
    "The page requires users to submit a form to view the data, so let's now scrape that data for an event. The form breaks down the search in 100 results at a time, so let's start with that."
   ]
  },
  {
   "cell_type": "code",
   "execution_count": 14,
   "metadata": {},
   "outputs": [
    {
     "data": {
      "text/html": [
       "<div>\n",
       "<style scoped>\n",
       "    .dataframe tbody tr th:only-of-type {\n",
       "        vertical-align: middle;\n",
       "    }\n",
       "\n",
       "    .dataframe tbody tr th {\n",
       "        vertical-align: top;\n",
       "    }\n",
       "\n",
       "    .dataframe thead th {\n",
       "        text-align: right;\n",
       "    }\n",
       "</style>\n",
       "<table border=\"1\" class=\"dataframe\">\n",
       "  <thead>\n",
       "    <tr style=\"text-align: right;\">\n",
       "      <th></th>\n",
       "    </tr>\n",
       "  </thead>\n",
       "  <tbody>\n",
       "    <tr>\n",
       "      <th>0</th>\n",
       "    </tr>\n",
       "    <tr>\n",
       "      <th>1</th>\n",
       "    </tr>\n",
       "    <tr>\n",
       "      <th>2</th>\n",
       "    </tr>\n",
       "    <tr>\n",
       "      <th>3</th>\n",
       "    </tr>\n",
       "    <tr>\n",
       "      <th>4</th>\n",
       "    </tr>\n",
       "  </tbody>\n",
       "</table>\n",
       "</div>"
      ],
      "text/plain": [
       "Empty DataFrame\n",
       "Columns: []\n",
       "Index: [0, 1, 2, 3, 4]"
      ]
     },
     "execution_count": 14,
     "metadata": {},
     "output_type": "execute_result"
    }
   ],
   "source": [
    "# Set search parameters\n",
    "gender = \"B\"\n",
    "start = 1\n",
    "end = 100\n",
    "\n",
    "# Set the form URL\n",
    "url = 'http://www.marathonguide.com/results/makelinks.cfm'\n",
    "\n",
    "# Set the data to POST\n",
    "data = {\n",
    "  'RaceRange': f'{gender},{start},{end},{nFinishers}', \n",
    "  'RaceRange_Required': 'You must make a selection before viewing results.', \n",
    "  'MIDD': f'{midd}', \n",
    "  'SubmitButton': 'View'\n",
    "}\n",
    "\n",
    "# Set the headers for the POST\n",
    "headers = {\n",
    "    \"Referer\": f\"http://www.marathonguide.com/results/browse.cfm?MIDD={midd}\",\n",
    "    \"User-Agent\":\"Mozilla/5.0 (X11; Linux x86_64; rv:109.0) Gecko/20100101 Firefox/113.0\"\n",
    "}\n",
    "\n",
    "# Submit the request\n",
    "results = requests.post(url, data=data, headers=headers)\n",
    "\n",
    "# Parse the content\n",
    "soup = BeautifulSoup(results.content)\n",
    "\n",
    "# Get the column headers from the table\n",
    "colNames = [th.get_text().strip() for th in soup.find_all(\"th\")]\n",
    "\n",
    "# Create empty list to append\n",
    "data = []\n",
    "\n",
    "# Get the data from the table rows\n",
    "rows = soup.find_all(\"tr\")\n",
    "\n",
    "# Loop through table rows\n",
    "for row in rows:\n",
    "    \n",
    "    # Create empty list to append\n",
    "    rowData = []\n",
    "\n",
    "    # Get all of the cells in the row\n",
    "    cells = row.find_all(\"td\")\n",
    "\n",
    "    # Find the rows with the right number of columns\n",
    "    if len(cells) == len(colNames):\n",
    "\n",
    "        # Loop through all of the table cells in the row\n",
    "        for cell in cells:\n",
    "\n",
    "            # Append the cell text to the row data\n",
    "            rowData.append(cell.get_text().strip())    \n",
    "\n",
    "    # Append the row data to the data list\n",
    "    data.append(rowData)\n",
    "\n",
    "dfResults = pd.DataFrame(data,columns=colNames)\n",
    "dfResults = dfResults.dropna().reset_index().drop('index',axis=1).copy()\n",
    "dfResults.head()"
   ]
  }
 ],
 "metadata": {
  "kernelspec": {
   "display_name": "sentrun",
   "language": "python",
   "name": "python3"
  },
  "language_info": {
   "codemirror_mode": {
    "name": "ipython",
    "version": 3
   },
   "file_extension": ".py",
   "mimetype": "text/x-python",
   "name": "python",
   "nbconvert_exporter": "python",
   "pygments_lexer": "ipython3",
   "version": "3.10.11"
  },
  "orig_nbformat": 4
 },
 "nbformat": 4,
 "nbformat_minor": 2
}
