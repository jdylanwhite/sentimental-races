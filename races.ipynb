{
 "cells": [
  {
   "attachments": {},
   "cell_type": "markdown",
   "metadata": {},
   "source": [
    "## Import Modules\n",
    "\n",
    "Let's import what we need to parse the Marathon Guide site results."
   ]
  },
  {
   "cell_type": "code",
   "execution_count": 32,
   "metadata": {},
   "outputs": [],
   "source": [
    "import requests\n",
    "from bs4 import BeautifulSoup\n",
    "import re"
   ]
  },
  {
   "attachments": {},
   "cell_type": "markdown",
   "metadata": {},
   "source": [
    "## Run A Query\n",
    "\n",
    "Now let's search for \"Boston\" to see if we can find the Boston Marathon."
   ]
  },
  {
   "cell_type": "code",
   "execution_count": 17,
   "metadata": {},
   "outputs": [],
   "source": [
    "url = \"http://www.marathonguide.com/races/search.cfm\"\n",
    "searchParams = {\n",
    "    \"MarName\":\"Boston\",\n",
    "    \"state\":0,\n",
    "    \"Country\":0,\n",
    "    \"BeginDate\":\"\",\n",
    "    \"EndDate\":\"\",\n",
    "    \"submit\":\"Search\"\n",
    "}\n",
    "res = requests.post(url,data=searchParams)"
   ]
  },
  {
   "attachments": {},
   "cell_type": "markdown",
   "metadata": {},
   "source": [
    "## Parse with BeautifulSoup\n",
    "\n",
    "We can read in the results content with BeautifulSoup. The search results are all linked to their page, referenced by an ID labelled as \"MIDD\". We can use this link to peel off the MIDD for each race in the search result via `MIDD\\s*=\\s*([\\S\\s]+)`, where\n",
    "\n",
    "* `MIDD` checks for the text \"MIDD\"\n",
    "* `\\s*` selects all whitespace if there is any\n",
    "* `=` Will match the \"=\" sign\n",
    "* `([\\S\\s]+)` select all characters."
   ]
  },
  {
   "cell_type": "code",
   "execution_count": 20,
   "metadata": {},
   "outputs": [],
   "source": [
    "# Read in the results of the query with BeautifulSoup\n",
    "soup = BeautifulSoup(res.content)\n",
    "\n",
    "# Loop through all <a> tags and find those with \"Boston\" in the name\n",
    "# TODO: Ignore any <strike>'ed results\n",
    "for a in soup.find_all(\"a\"):\n",
    "    if \"Boston\" in a.text:\n",
    "        b = a\n",
    "        link = a.get_attribute_list('href')\n",
    "        mmid = re.search('MIDD\\s*=\\s*([\\S\\s]+)',re.search('\\?(.*?)\"', link[0]link[0]).group(1)\n",
    "        race = a.text"
   ]
  },
  {
   "attachments": {},
   "cell_type": "markdown",
   "metadata": {},
   "source": [
    "TODO: Now follow this link and get the MIDD for each year's event."
   ]
  }
 ],
 "metadata": {
  "kernelspec": {
   "display_name": "sentrun",
   "language": "python",
   "name": "python3"
  },
  "language_info": {
   "codemirror_mode": {
    "name": "ipython",
    "version": 3
   },
   "file_extension": ".py",
   "mimetype": "text/x-python",
   "name": "python",
   "nbconvert_exporter": "python",
   "pygments_lexer": "ipython3",
   "version": "3.10.11"
  },
  "orig_nbformat": 4
 },
 "nbformat": 4,
 "nbformat_minor": 2
}
